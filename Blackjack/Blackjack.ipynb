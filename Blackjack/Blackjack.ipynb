{
 "cells": [
  {
   "cell_type": "code",
   "execution_count": 3,
   "id": "9c5d4220-f429-42ea-8f11-06485f92e4c1",
   "metadata": {},
   "outputs": [
    {
     "name": "stdout",
     "output_type": "stream",
     "text": [
      "Deal New Hand {}\n",
      "Hit {}\n",
      "None None\n"
     ]
    },
    {
     "data": {
      "text/plain": [
       "'        \\n        for p in player[-1:]:\\n            pic = card_pic(p)\\n            p_cards.append(pic)\\n        \\n        p_cards_2 = p_cards[2:]\\n'"
      ]
     },
     "execution_count": 3,
     "metadata": {},
     "output_type": "execute_result"
    }
   ],
   "source": [
    "import PySimpleGUI as sg\n",
    "import time\n",
    "import pydealer\n",
    "\n",
    "from bj_dict import card_values\n",
    "from bj_functions import new_hand\n",
    "\n",
    "test_cards = [ [sg.Image(filename='cards/back.png'),sg.Image(filename='cards/back.png')]]\n",
    "\n",
    "\n",
    "#p_cards = ['cards/jack_heart.png','cards/king_spade.png','cards/1_spade.png','cards/king_club.png']\n",
    "#player_cards = [[sg.Image(filename=None),sg.Image(filename=None)]]\n",
    "#player_cards = [[sg.Image(p) for p in p_cards]]\n",
    "\n",
    "dealer_cards = [[sg.Image(filename=None),sg.Image(filename=None)]]\n",
    "\n",
    "\n",
    "def card_pic(card):\n",
    "    value = card_values['file_value'][card.value]\n",
    "    suit = card_values['file_suit'][card.suit]\n",
    "    card = \"cards/\"+value+\"_\"+suit+\".png\"\n",
    "    \n",
    "    return card\n",
    "    \n",
    "\n",
    "\n",
    "\n",
    "\n",
    "player_cards = []\n",
    "p_cards = []\n",
    "d_cards = []\n",
    "layout = [ \n",
    "#            [sg.Frame(\"Dealer's Hand\", dealer_cards)],\n",
    "#            [sg.Frame(\"Player's Hand\", player_cards)],\n",
    "            [sg.Button('Deal New Hand')] ]\n",
    "\n",
    "\n",
    "\n",
    "\n",
    "window = sg.Window('Marlon Blackjack', layout)\n",
    "while True:\n",
    "\n",
    "   \n",
    "    \n",
    "    event, values = window.read()\n",
    "    print(event, values)\n",
    "\n",
    "    if event == sg.WIN_CLOSED:\n",
    "        break\n",
    "    \n",
    "    if event == 'Deal New Hand':\n",
    "        dealer = []\n",
    "        p_cards = []\n",
    "        d_cards = []\n",
    "        def new_hand():\n",
    "            deck = pydealer.Deck()\n",
    "            deck.shuffle()\n",
    "            dealer = pydealer.Stack()\n",
    "            dealer.add(deck.deal(2))\n",
    "            player = pydealer.Stack()\n",
    "            player.add(deck.deal(2))        \n",
    "            return dealer , player , deck\n",
    "        \n",
    "        new_hand = new_hand()\n",
    "        \n",
    "        deck = new_hand[2]\n",
    "        \n",
    "        dealer = new_hand[0]\n",
    "#        dealer_hand[0][0].Update(card_pic(dealer[0]))\n",
    "#        dealer_hand[0][1].Update(card_pic(dealer[1]))\n",
    "        \n",
    "        player = new_hand[1]\n",
    "#        [0][0].Update(card_pic(player[0]))\n",
    "#        [0][1].Update(card_pic(player[1]))\n",
    "        for d in dealer:\n",
    "            pic = card_pic(d)\n",
    "            d_cards.append(pic)\n",
    "        for p in player:\n",
    "            pic = card_pic(p)\n",
    "            p_cards.append(pic)\n",
    "            \n",
    "        p_cards_1 = p_cards[0:2]\n",
    "        p_cards_2 = p_cards[2:]\n",
    "        dealer_cards = [[sg.Image(d) for d in d_cards]]\n",
    "        test = [[sg.Image(p) for p in p_cards_1]]\n",
    "\n",
    "        \n",
    "        test2 = [[sg.Image(key=f\"player_{x}\") for x in range(10)]]\n",
    "\n",
    "        player_cards = [[sg.Column(test), sg.VerticalSeparator(), sg.Column(test2, key=\"-MARLON-\")]]\n",
    "        game = [[sg.Frame('Dealer Hand', dealer_cards)],\n",
    "                [sg.Frame('Player Hand', player_cards)],\n",
    "                [sg.Button('Hit'), sg.Button('Stay')],\n",
    "                [sg.Button('Deal New Hand')]\n",
    "               ]\n",
    "        window.close()\n",
    "        game = sg.Window('Blackjack', game)\n",
    "        window = game\n",
    "        hit = 0\n",
    "        #       game.read()\n",
    "        \n",
    "    \n",
    "        \n",
    "\n",
    "        \n",
    "        time.sleep(1)\n",
    "        \n",
    "\n",
    "    if event == 'Hit':\n",
    "        player.add(deck.deal(1))\n",
    "        c = 'player_'+str(hit)\n",
    "        window[c].update(card_pic(player[-1]))\n",
    "        hit += 1\n",
    "\"\"\"        \n",
    "        for p in player[-1:]:\n",
    "            pic = card_pic(p)\n",
    "            p_cards.append(pic)\n",
    "        \n",
    "        p_cards_2 = p_cards[2:]\n",
    "\"\"\"        \n",
    "        \n",
    "        \n",
    " \n"
   ]
  },
  {
   "cell_type": "code",
   "execution_count": 4,
   "id": "056da08b-e7b7-459c-b7ef-66bec52a7277",
   "metadata": {},
   "outputs": [
    {
     "data": {
      "text/plain": [
       "Stack(cards=deque([Card(value='9', suit='Spades'), Card(value='Queen', suit='Hearts'), Card(value='4', suit='Diamonds')]))"
      ]
     },
     "execution_count": 4,
     "metadata": {},
     "output_type": "execute_result"
    }
   ],
   "source": [
    "player"
   ]
  },
  {
   "cell_type": "code",
   "execution_count": 1,
   "id": "0c9e5050-2b6b-4de3-83d9-33628d7c3646",
   "metadata": {},
   "outputs": [
    {
     "name": "stdout",
     "output_type": "stream",
     "text": [
      "Deal New Hand {}\n",
      "Hit {}\n",
      "Hit {}\n",
      "None None\n"
     ]
    }
   ],
   "source": [
    "import PySimpleGUI as sg\n",
    "import time\n",
    "import pydealer\n",
    "\n",
    "from bj_dict import card_values\n",
    "from bj_functions import new_hand\n",
    "\n",
    "test_cards = [ [sg.Image(filename='cards/back.png'),sg.Image(filename='cards/back.png')]]\n",
    "\n",
    "\n",
    "#p_cards = ['cards/jack_heart.png','cards/king_spade.png','cards/1_spade.png','cards/king_club.png']\n",
    "#player_cards = [[sg.Image(filename=None),sg.Image(filename=None)]]\n",
    "#player_cards = [[sg.Image(p) for p in p_cards]]\n",
    "\n",
    "dealer_cards = [[sg.Image(filename=None),sg.Image(filename=None)]]\n",
    "\n",
    "\n",
    "def card_pic(card):\n",
    "    value = card_values['file_value'][card.value]\n",
    "    suit = card_values['file_suit'][card.suit]\n",
    "    card = \"cards/\"+value+\"_\"+suit+\".png\"\n",
    "    \n",
    "    return card\n",
    "    \n",
    "\n",
    "\n",
    "\n",
    "\n",
    "player_cards = []\n",
    "p_cards = []\n",
    "d_cards = []\n",
    "layout = [ \n",
    "#            [sg.Frame(\"Dealer's Hand\", dealer_cards)],\n",
    "#            [sg.Frame(\"Player's Hand\", player_cards)],\n",
    "            [sg.Button('Deal New Hand')] ]\n",
    "\n",
    "\n",
    "\n",
    "\n",
    "window = sg.Window('Marlon Blackjack', layout)\n",
    "while True:\n",
    "\n",
    "   \n",
    "    \n",
    "    event, values = window.read()\n",
    "    print(event, values)\n",
    "\n",
    "    if event == sg.WIN_CLOSED:\n",
    "        break\n",
    "    \n",
    "    if event == 'Deal New Hand':\n",
    "        dealer = []\n",
    "        p_cards = []\n",
    "        d_cards = []\n",
    "        def new_hand():\n",
    "            deck = pydealer.Deck()\n",
    "            deck.shuffle()\n",
    "            dealer = pydealer.Stack()\n",
    "            dealer.add(deck.deal(2))\n",
    "            player = pydealer.Stack()\n",
    "            player.add(deck.deal(2))        \n",
    "            return dealer , player , deck\n",
    "        \n",
    "        new_hand = new_hand()\n",
    "        \n",
    "        deck = new_hand[2]\n",
    "        \n",
    "        dealer = new_hand[0]\n",
    "#        dealer_hand[0][0].Update(card_pic(dealer[0]))\n",
    "#        dealer_hand[0][1].Update(card_pic(dealer[1]))\n",
    "        \n",
    "        player = new_hand[1]\n",
    "#        [0][0].Update(card_pic(player[0]))\n",
    "#        [0][1].Update(card_pic(player[1]))\n",
    "        for d in dealer:\n",
    "            pic = card_pic(d)\n",
    "            d_cards.append(pic)\n",
    "        for p in player:\n",
    "            pic = card_pic(p)\n",
    "            p_cards.append(pic)\n",
    "            \n",
    "        p_cards_1 = p_cards[0:2]\n",
    "        p_cards_2 = p_cards[2:]\n",
    "        dealer_cards = [[sg.Image(d) for d in d_cards]]\n",
    "        test = [[sg.Image(p) for p in p_cards_1]]\n",
    "        \n",
    "        #######\n",
    "        \n",
    "        \n",
    "        test2 = [[sg.Image(p) for p in p_cards_2]]\n",
    "        player_cards = [[sg.Column(test), sg.VerticalSeparator(), sg.Column(test2, key=\"-MARLON-\")]]\n",
    "        game = [[sg.Frame('Dealer Hand', dealer_cards)],\n",
    "                [sg.Frame('Player Hand', player_cards)],\n",
    "                [sg.Button('Hit'), sg.Button('Stay')],\n",
    "                [sg.Button('Deal New Hand')]\n",
    "               ]\n",
    "        window.close()\n",
    "        game = sg.Window('Blackjack', game)\n",
    "        window = game\n",
    "        #       game.read()\n",
    "        \n",
    "    \n",
    "        \n",
    "\n",
    "        \n",
    "        time.sleep(1)\n",
    "        \n",
    "        \n"
   ]
  },
  {
   "cell_type": "code",
   "execution_count": 4,
   "id": "aa16b18b-95eb-4325-baf0-389e27ee0a1e",
   "metadata": {},
   "outputs": [
    {
     "data": {
      "text/plain": [
       "[]"
      ]
     },
     "execution_count": 4,
     "metadata": {},
     "output_type": "execute_result"
    }
   ],
   "source": [
    "p_cards_2"
   ]
  },
  {
   "cell_type": "code",
   "execution_count": null,
   "id": "3a5aa9be-19cc-4681-a04b-89e319b9594c",
   "metadata": {},
   "outputs": [
    {
     "name": "stdout",
     "output_type": "stream",
     "text": [
      "test {}\n",
      "test {}\n"
     ]
    }
   ],
   "source": [
    "import PySimpleGUI as sg\n",
    "import time\n",
    "import pydealer\n",
    "\n",
    "from bj_dict import card_values\n",
    "from bj_functions import new_hand\n",
    "\n",
    "test = [[sg.Text('test', key='-KEY-')]]\n",
    "TTT = [[sg.Text('TTT')]]\n",
    "layout = [  [sg.Frame('test frame',test, key=\"-TEST-\")],\n",
    "            [sg.Button('test')]  ]\n",
    "\n",
    "window = sg.Window('Marlon Blackjack', layout)\n",
    "\n",
    "while True:\n",
    "\n",
    "    event, values = window.read()\n",
    "    print(event, values)\n",
    "\n",
    "    if event == sg.WIN_CLOSED:\n",
    "        break\n",
    "    \n",
    "    if event == 'test':\n",
    "        test[0].append(sg.Text('Marlon'))\n",
    "        window[\"-TEST-\"].update('test 2 frame',test)\n",
    "        #.refresh()\n",
    "        \n",
    "    "
   ]
  },
  {
   "cell_type": "code",
   "execution_count": null,
   "id": "be0a8321-8105-4bf6-9deb-92114ae356dc",
   "metadata": {},
   "outputs": [],
   "source": [
    "test"
   ]
  },
  {
   "cell_type": "code",
   "execution_count": 9,
   "id": "aa9bf41a-a6a9-4734-a8a4-79b36009ead0",
   "metadata": {},
   "outputs": [
    {
     "ename": "TypeError",
     "evalue": "refresh() takes 1 positional argument but 2 were given",
     "output_type": "error",
     "traceback": [
      "\u001b[1;31m---------------------------------------------------------------------------\u001b[0m",
      "\u001b[1;31mTypeError\u001b[0m                                 Traceback (most recent call last)",
      "\u001b[1;32m<ipython-input-9-57afcd4cdc4c>\u001b[0m in \u001b[0;36m<module>\u001b[1;34m\u001b[0m\n\u001b[1;32m----> 1\u001b[1;33m \u001b[0mwindow\u001b[0m\u001b[1;33m.\u001b[0m\u001b[0mrefresh\u001b[0m\u001b[1;33m(\u001b[0m\u001b[0mtest\u001b[0m\u001b[1;33m)\u001b[0m\u001b[1;33m\u001b[0m\u001b[1;33m\u001b[0m\u001b[0m\n\u001b[0m",
      "\u001b[1;31mTypeError\u001b[0m: refresh() takes 1 positional argument but 2 were given"
     ]
    }
   ],
   "source": [
    "window.refresh(test)"
   ]
  },
  {
   "cell_type": "code",
   "execution_count": 11,
   "id": "20a7ed56-2894-4fe0-ad41-c7b6c8e4b0fc",
   "metadata": {},
   "outputs": [
    {
     "name": "stdout",
     "output_type": "stream",
     "text": [
      "Deal New Hand {}\n",
      "-STAND- {0: None}\n",
      "Player Stand\n",
      "Dealer Plays\n",
      "Deal New Hand {0: None}\n",
      "Player Blackjack\n",
      "Dealer Plays\n",
      "Deal New Hand {0: None}\n",
      "-SPLIT- {0: None}\n",
      "Split: King of Diamonds\n",
      "9 of Spades\n",
      "Player: 10 of Clubs\n",
      "4 of Diamonds\n",
      "-HIT- {0: None}\n",
      "Player Blackjack\n",
      "count is: 21\n",
      "None None\n"
     ]
    }
   ],
   "source": [
    "import PySimpleGUI as sg\n",
    "import time\n",
    "import pydealer\n",
    "\n",
    "from bj_dict import card_values\n",
    "\n",
    "def card_pic(card):\n",
    "    value = card_values['file_value'][card.value]\n",
    "    suit = card_values['file_suit'][card.suit]\n",
    "    card = \"cards/\"+value+\"_\"+suit+\".png\"\n",
    "    \n",
    "    return card\n",
    "\n",
    "layout = [  [sg.Button('Deal New Hand')]  ]\n",
    "\n",
    "window = sg.Window('Marlon Blackjack', layout)\n",
    "\n",
    "menu_def = [['&File',['!&Open']],\n",
    "            ['&Toolbar',['Command &1']]]\n",
    "\n",
    "\n",
    "\n",
    "while True:\n",
    "\n",
    "   \n",
    "    \n",
    "    event, values = window.read()\n",
    "    print(event, values)\n",
    "\n",
    "    if event == sg.WIN_CLOSED:\n",
    "        break\n",
    "     \n",
    "    if event == \"Command 1\":\n",
    "        print('amrlon')\n",
    "            \n",
    "################\n",
    "    \n",
    "\n",
    "        \n",
    "\n",
    "            \n",
    "            \n",
    "            \n",
    "            \n",
    "            \n",
    "            \n",
    "            \n",
    "            \n",
    "    \n",
    "    if event == 'Deal New Hand':\n",
    "\n",
    "        def new_hand():\n",
    "            deck = pydealer.Deck()\n",
    "            deck.shuffle()\n",
    "            dealer = pydealer.Stack()\n",
    "            dealer.add(deck.deal(2))\n",
    "            player = pydealer.Stack()\n",
    "            player.add(deck.deal(2))        \n",
    "            return dealer , player , deck\n",
    "        new_hand = new_hand()\n",
    "        dealer,player,deck = new_hand[0],new_hand[1],new_hand[2]\n",
    "###Match The Cards to Picture File\n",
    "        dealer_pics = []\n",
    "        player_pics = []\n",
    "        for d in dealer:\n",
    "            pic = card_pic(d)\n",
    "            dealer_pics.append(pic)\n",
    "        for p in player:\n",
    "            pic = card_pic(p)\n",
    "            player_pics.append(pic)\n",
    "###The Layout of Game            \n",
    "        dealer_cards_base = [  [sg.Image('cards/back.png', key='-DEALER_HIDDEN-'), sg.Image(dealer_pics[1])]  ]\n",
    "        dealer_cards_hit = [  [sg.Image(key=f\"dealer_{x}\") for x in range(10)]  ]\n",
    "        dealer_board = [[sg.Text(key='-DEALER_COUNT-')],  \n",
    "                        [sg.Column(dealer_cards_base), sg.VerticalSeparator(), sg.Column(dealer_cards_hit)]  ] \n",
    "        \n",
    "        \n",
    "        \n",
    "        player_cards_split_0 = [  [sg.Image(key='P_SPLIT_0_1'),sg.Image(key='P_SPLIT_0_2')]  ]\n",
    "        player_0 = []\n",
    "        player_cards_split_1 = [  [sg.Image(key='P_SPLIT_1_1'),sg.Image(key='P_SPLIT_1_2')]  ]\n",
    "        player_1 = []\n",
    "        player_cards_split_2 = [  [sg.Image(key='P_SPLIT_2_1'),sg.Image(key='P_SPLIT_2_2')]  ]\n",
    "        player_2 = []\n",
    "        player_cards_split_3 = [  [sg.Image(key='P_SPLIT_3_1'),sg.Image(key='P_SPLIT_3_2')]  ]\n",
    "        player_3 = []\n",
    "        \n",
    "        player_cards_hit = [  [sg.Image(key=f\"player_{x}\") for x in range(10)]  ]\n",
    "        player_board = [  [sg.Column(player_cards_split_0), sg.VerticalSeparator(), sg.Column(player_cards_hit)],\n",
    "                          [sg.Column(player_cards_split_1), sg.VerticalSeparator(), sg.Column(\"\")],\n",
    "                          [sg.Column(player_cards_split_2)],\n",
    "                          [sg.Column(player_cards_split_3)]  ]\n",
    "                        \n",
    "        game_board = [ [sg.Menu(menu_def)],\n",
    "                       [sg.Frame(\"Dealer's Hand\", dealer_board)],\n",
    "                       [sg.Text(key='-RESULT-')],\n",
    "                       [sg.Frame(\"Player's Hand\", player_board)],\n",
    "                       [sg.Button(\"Hit\",key='-HIT-'), sg.Button(\"Stand\",key='-STAND-'), sg.Button(\"Split\",key='-SPLIT-',visible=False)],\n",
    "                       [sg.Button(\"Deal New Hand\")]#,\n",
    "#                       [sg.Input('w')]\n",
    "                     ]\n",
    "###Start New Game \n",
    "        window.close()\n",
    "        game = sg.Window('Blackjack', game_board, finalize=True)\n",
    "        \n",
    "        game['P_SPLIT_0_1'].update(player_pics[0])\n",
    "        game['P_SPLIT_0_2'].update(player_pics[1])\n",
    "        \n",
    "        window = game\n",
    "###Misc settings\n",
    "        hand = 0\n",
    "        split = 1\n",
    "        player_0.append(player)\n",
    "        hit = 0\n",
    "        count = 0\n",
    "###Check Dealer Blackjack\n",
    "        if card_values['values'][dealer[1].value] == 10:\n",
    "            if dealer[0].value == 'Ace':\n",
    "                window['-RESULT-'].update('Dealer Has Blackjack')\n",
    "                window['-DEALER_HIDDEN-'].update(dealer_pics[0])\n",
    "                window['-HIT-'].update(visible=False)\n",
    "                window['-STAND-'].update(visible=False)\n",
    "###Offer Insurance (Add Later)\n",
    "        if dealer[1].value == 'Ace':\n",
    "            if card_values['values'][dealer[0].value] == 10:\n",
    "                window['-RESULT-'].update('Dealer Has Blackjack')\n",
    "                window['-DEALER_HIDDEN-'].update(dealer_pics[0])\n",
    "                window['-HIT-'].update(visible=False)\n",
    "                window['-STAND-'].update(visible=False)\n",
    "                \n",
    "###Check Player Blackjack\n",
    "        if int(card_values['values'][player[0].value])+int(card_values['values'][player[1].value]) == 21:\n",
    "            print('Player Blackjack')\n",
    "            hand += 1  \n",
    "\n",
    "        if count == 0:\n",
    "            count += int(card_values['values'][player[0].value])+int(card_values['values'][player[1].value])\n",
    "        \n",
    "###Split Hand     \n",
    "    if card_values['values'][player[0].value] == card_values['values'][player[1].value]:\n",
    "            window['-SPLIT-'].update(visible=True)\n",
    "\n",
    "\n",
    "    if event == '-SPLIT-': \n",
    "        ###Create New Decks in lists\n",
    "        player_split = player.split()[-1]\n",
    "        player_split.add(deck.deal(1))\n",
    "        print(f'Split: {player_split}')\n",
    "        player = player.split()[0]\n",
    "        player.add(deck.deal(1))\n",
    "        count = int(card_values['values'][player[0].value])+int(card_values['values'][player[1].value])\n",
    "        print(f'Player: {player}')\n",
    "        \n",
    "        ###Replace Current Hand with New Card\n",
    "        replace_pic = card_pic(player[-1])\n",
    "        current_game = \"P_SPLIT_\"+str(hand)+\"_2\"\n",
    "        window[current_game].update(replace_pic)\n",
    "        ###Create New Game For Split\n",
    "        pic_split_1 = \"P_SPLIT_\"+str(split)+\"_1\"\n",
    "        pic_split_2 = \"P_SPLIT_\"+str(split)+\"_2\" \n",
    "        window[pic_split_1].update(card_pic(player_split[0]))\n",
    "        window[pic_split_2].update(card_pic(player_split[1]))\n",
    "        ###Updating List of cards \n",
    "        eval('player_'+str(split)).append(player_split) \n",
    "        eval('player_'+str(hand)).append(player) \n",
    "        split += 1\n",
    "        ###Check For Double Again\n",
    "        if card_values['values'][player[0].value] == card_values['values'][player[1].value]:\n",
    "            window['-SPLIT-'].update(visible=True)\n",
    "        else:\n",
    "            window['-SPLIT-'].update(visible=False)\n",
    "###Hit\n",
    "    window['-RESULT-'].update(f'{count}')\n",
    "    if event == '-HIT-':\n",
    "        \n",
    "        hit_list = \"player_\"+str(hit)\n",
    "        hit_list_object = eval(\"player_\"+str(hand))[0]\n",
    "        count = 0\n",
    "        hit_list_object.add(deck.deal(1))\n",
    "        window[hit_list].update(card_pic(hit_list_object[-1]))\n",
    "        \n",
    "        for h in hit_list_object:\n",
    "            if h.value != 'Ace':\n",
    "                count += int(card_values['values'][h.value])\n",
    "        for h in hit_list_object:\n",
    "            if h.value == 'Ace':\n",
    "                if count < 10:\n",
    "                    count += 11\n",
    "                else:\n",
    "                    count += 1\n",
    "        if count == 21:\n",
    "            print('Player Blackjack')\n",
    "\n",
    "            hand += 1\n",
    "\n",
    "        ###Check for bust\n",
    "        if count > 21:\n",
    "            print('Player Bust') \n",
    "            hand += 1\n",
    "        hit += 1\n",
    "        window['-RESULT-'].update(f'{count}')\n",
    "        print(f'count is: {count}')  \n",
    "###Player Stand\n",
    "    if event == '-STAND-':\n",
    "        print('Player Stand')\n",
    "        hand += 1\n",
    "###Dealer Plays        \n",
    "    if hand == split:\n",
    "        print('Dealer Plays')\n",
    "        window['-HIT-'].update(visible=False)\n",
    "        window['-STAND-'].update(visible=False)\n",
    "        window['-DEALER_HIDDEN-'].update(dealer_pics[0])\n",
    "        dealer_count = card_values['values'][dealer[0].value]+card_values['values'][dealer[1].value]\n",
    "        dealer_hit = 0\n",
    "    \n",
    "        for y in range(10):\n",
    "            if dealer_count >= 17:\n",
    "                break\n",
    "            \n",
    "            dealer.add(deck.deal(1))\n",
    "            dealer_card = card_pic(dealer[-1])\n",
    "            window[f'dealer_{dealer_hit}'].update(dealer_card)\n",
    "            dealer_count += card_values['values'][dealer[-1].value]\n",
    "            dealer_hit += 1\n",
    "###Game Results            \n",
    "        if dealer_count == count:\n",
    "            window['-DEALER_COUNT-'].update(f'Draw')\n",
    "        elif dealer_count > 21:\n",
    "            window['-DEALER_COUNT-'].update(f'Dealer Bust')\n",
    "        elif dealer_count < 22 and dealer_count > count:\n",
    "            window['-DEALER_COUNT-'].update(f'Dealer Wins With {dealer_count}')\n",
    "        elif dealer_count < count:\n",
    "            window['-DEALER_COUNT-'].update(f'{dealer_count}. \\nPlayer Wins')\n",
    "            \n",
    "\n",
    "\n",
    "            \n",
    "         \n",
    "        \n",
    "\n",
    "    \n",
    "        \n"
   ]
  },
  {
   "cell_type": "code",
   "execution_count": 12,
   "id": "094d9aa6-f6ab-4380-b627-949eb90b9c7c",
   "metadata": {},
   "outputs": [
    {
     "data": {
      "text/plain": [
       "Stack(cards=deque([Card(value='10', suit='Clubs'), Card(value='4', suit='Diamonds')]))"
      ]
     },
     "execution_count": 12,
     "metadata": {},
     "output_type": "execute_result"
    }
   ],
   "source": [
    "player_0"
   ]
  },
  {
   "cell_type": "code",
   "execution_count": 13,
   "id": "f00367c3-4bb6-40a3-a56a-dc4bf907796b",
   "metadata": {},
   "outputs": [
    {
     "data": {
      "text/plain": [
       "[Stack(cards=deque([Card(value='10', suit='Clubs'), Card(value='King', suit='Diamonds'), Card(value='Ace', suit='Spades')])),\n",
       " Stack(cards=deque([Card(value='10', suit='Clubs'), Card(value='4', suit='Diamonds')]))]"
      ]
     },
     "execution_count": 13,
     "metadata": {},
     "output_type": "execute_result"
    }
   ],
   "source": [
    "player_0"
   ]
  },
  {
   "cell_type": "code",
   "execution_count": 2,
   "id": "da32baa9-7e05-40b6-b58c-e555033954f2",
   "metadata": {},
   "outputs": [
    {
     "ename": "IndexError",
     "evalue": "list index out of range",
     "output_type": "error",
     "traceback": [
      "\u001b[1;31m---------------------------------------------------------------------------\u001b[0m",
      "\u001b[1;31mIndexError\u001b[0m                                Traceback (most recent call last)",
      "\u001b[1;32m<ipython-input-2-84f2f06e53a9>\u001b[0m in \u001b[0;36m<module>\u001b[1;34m\u001b[0m\n\u001b[1;32m----> 1\u001b[1;33m \u001b[0meval\u001b[0m\u001b[1;33m(\u001b[0m\u001b[1;34m\"player_\"\u001b[0m\u001b[1;33m+\u001b[0m\u001b[0mstr\u001b[0m\u001b[1;33m(\u001b[0m\u001b[0mhit\u001b[0m\u001b[1;33m)\u001b[0m\u001b[1;33m)\u001b[0m\u001b[1;33m[\u001b[0m\u001b[1;36m0\u001b[0m\u001b[1;33m]\u001b[0m\u001b[1;33m\u001b[0m\u001b[1;33m\u001b[0m\u001b[0m\n\u001b[0m",
      "\u001b[1;31mIndexError\u001b[0m: list index out of range"
     ]
    }
   ],
   "source": [
    "eval(\"player_\"+str(hit))[0]"
   ]
  },
  {
   "cell_type": "code",
   "execution_count": 9,
   "id": "8f81ff8a-7b9f-4c49-94b7-bd9dc8b7699d",
   "metadata": {},
   "outputs": [],
   "source": [
    "hit_list.add(deck.deal(1))"
   ]
  },
  {
   "cell_type": "code",
   "execution_count": 53,
   "id": "e0b6a26c-1235-4e2f-a22c-30d271ff0bf2",
   "metadata": {},
   "outputs": [
    {
     "data": {
      "text/plain": [
       "pydealer.stack.Stack"
      ]
     },
     "execution_count": 53,
     "metadata": {},
     "output_type": "execute_result"
    }
   ],
   "source": [
    "type(player_3[0])"
   ]
  },
  {
   "cell_type": "code",
   "execution_count": 48,
   "id": "89ec60bb-bbc9-41d3-8012-3a84e2debd90",
   "metadata": {},
   "outputs": [
    {
     "data": {
      "text/plain": [
       "pydealer.stack.Stack"
      ]
     },
     "execution_count": 48,
     "metadata": {},
     "output_type": "execute_result"
    }
   ],
   "source": [
    "type(update_split)"
   ]
  },
  {
   "cell_type": "code",
   "execution_count": 36,
   "id": "e5a16c86-3b6b-4083-a8b6-b401c0e7c902",
   "metadata": {},
   "outputs": [
    {
     "data": {
      "text/plain": [
       "Stack(cards=deque([Card(value='2', suit='Hearts')]))"
      ]
     },
     "execution_count": 36,
     "metadata": {},
     "output_type": "execute_result"
    }
   ],
   "source": [
    "player_split"
   ]
  },
  {
   "cell_type": "code",
   "execution_count": null,
   "id": "ce14305e-d3bf-43d0-8609-86bacdd58e1d",
   "metadata": {},
   "outputs": [],
   "source": []
  }
 ],
 "metadata": {
  "kernelspec": {
   "display_name": "Python 3",
   "language": "python",
   "name": "python3"
  },
  "language_info": {
   "codemirror_mode": {
    "name": "ipython",
    "version": 3
   },
   "file_extension": ".py",
   "mimetype": "text/x-python",
   "name": "python",
   "nbconvert_exporter": "python",
   "pygments_lexer": "ipython3",
   "version": "3.8.8"
  }
 },
 "nbformat": 4,
 "nbformat_minor": 5
}
